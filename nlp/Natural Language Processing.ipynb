{
 "cells": [
  {
   "cell_type": "markdown",
   "id": "ca8b7b46",
   "metadata": {},
   "source": [
    "# Natural Language Processing"
   ]
  },
  {
   "cell_type": "markdown",
   "id": "04486de8",
   "metadata": {},
   "source": [
    "<img src=\"https://codesrevolvewordpress.s3.us-west-2.amazonaws.com/revolveai/2022/05/15110810/natural-language-processing-techniques.png\" width=550>"
   ]
  },
  {
   "cell_type": "markdown",
   "id": "c744ea97",
   "metadata": {},
   "source": [
    "### What is Natural Language Processing?"
   ]
  },
  {
   "cell_type": "markdown",
   "id": "4d50f48f",
   "metadata": {},
   "source": [
    "> #### Field of study focused on making sense of language - Using statistics and computers\n",
    "> is a subfield of Linguistics, Computer Science (CS), and Artificial Intelligence (AI) concerned with the interactions between computers and human language, in particular how to program computers to process and analyze large amounts of natural language data.\n",
    "<br><br>\n",
    "> Up to the 1980s, most natural language processing systems were based on complex sets of hand-written rules. Starting in the late 1980s, however, there was a revolution in natural language processing with the introduction of machine learning algorithms for language processing.\n",
    "<br><br>\n",
    "> **Methods**: Rules, statistics, neural networks"
   ]
  },
  {
   "cell_type": "markdown",
   "id": "f51c7116",
   "metadata": {},
   "source": [
    "# Regular Expressions: Regexes in Python"
   ]
  },
  {
   "cell_type": "markdown",
   "id": "4955d6fd",
   "metadata": {},
   "source": [
    "### A (Very Brief) History of Regular Expressions"
   ]
  },
  {
   "cell_type": "markdown",
   "id": "0f546a36",
   "metadata": {},
   "source": [
    "In 1951, mathematician Stephen Cole Kleene described the concept of a regular language, a language that is recognizable by a finite automaton and formally expressible using regular expressions. In the mid-1960s, computer science pioneer Ken Thompson, one of the original designers of Unix, implemented pattern matching in the QED text editor using Kleene’s notation.\n",
    "\n",
    "Since then, regexes have appeared in many programming languages, editors, and other tools as a means of determining whether a string matches a specified pattern. Python, Java, and Perl all support regex functionality, as do most Unix tools and many text editors."
   ]
  },
  {
   "cell_type": "markdown",
   "id": "4b5784e5",
   "metadata": {},
   "source": [
    "### The re Module"
   ]
  },
  {
   "cell_type": "code",
   "execution_count": null,
   "id": "435013f7",
   "metadata": {},
   "outputs": [],
   "source": []
  },
  {
   "cell_type": "code",
   "execution_count": null,
   "id": "064e9830",
   "metadata": {},
   "outputs": [],
   "source": []
  },
  {
   "cell_type": "markdown",
   "id": "c1c803d9",
   "metadata": {},
   "source": [
    "# Introduction to tokenization"
   ]
  },
  {
   "cell_type": "code",
   "execution_count": null,
   "id": "9569b3f8",
   "metadata": {},
   "outputs": [],
   "source": []
  },
  {
   "cell_type": "code",
   "execution_count": null,
   "id": "d25ab99d",
   "metadata": {},
   "outputs": [],
   "source": []
  },
  {
   "cell_type": "markdown",
   "id": "f8ab6d1a",
   "metadata": {},
   "source": [
    "# nltk library"
   ]
  },
  {
   "cell_type": "code",
   "execution_count": null,
   "id": "fbbd5445",
   "metadata": {},
   "outputs": [],
   "source": []
  },
  {
   "cell_type": "code",
   "execution_count": null,
   "id": "8cdae8bf",
   "metadata": {},
   "outputs": [],
   "source": []
  },
  {
   "cell_type": "markdown",
   "id": "9cc97d2e",
   "metadata": {},
   "source": [
    "# Word counts with bag-of-words"
   ]
  },
  {
   "cell_type": "code",
   "execution_count": null,
   "id": "3fab07fb",
   "metadata": {},
   "outputs": [],
   "source": []
  },
  {
   "cell_type": "code",
   "execution_count": null,
   "id": "32ce2df9",
   "metadata": {},
   "outputs": [],
   "source": []
  },
  {
   "cell_type": "markdown",
   "id": "7e62ce03",
   "metadata": {},
   "source": [
    "### Simple text preprocessing"
   ]
  },
  {
   "cell_type": "code",
   "execution_count": null,
   "id": "a969d1d1",
   "metadata": {},
   "outputs": [],
   "source": []
  },
  {
   "cell_type": "markdown",
   "id": "13ed990e",
   "metadata": {},
   "source": [
    "### Introduction to gensim"
   ]
  },
  {
   "cell_type": "code",
   "execution_count": null,
   "id": "6c78cd2f",
   "metadata": {},
   "outputs": [],
   "source": []
  },
  {
   "cell_type": "markdown",
   "id": "57a3e76d",
   "metadata": {},
   "source": [
    "### Tf-idf with gensim"
   ]
  },
  {
   "cell_type": "code",
   "execution_count": null,
   "id": "9086dd17",
   "metadata": {},
   "outputs": [],
   "source": []
  },
  {
   "cell_type": "markdown",
   "id": "2e0f38b6",
   "metadata": {},
   "source": [
    "# Named Entity Recognition"
   ]
  },
  {
   "cell_type": "code",
   "execution_count": null,
   "id": "893f08b3",
   "metadata": {},
   "outputs": [],
   "source": []
  },
  {
   "cell_type": "markdown",
   "id": "6c5b39fe",
   "metadata": {},
   "source": [
    "### Using nltk for Named Entity Recognition"
   ]
  },
  {
   "cell_type": "code",
   "execution_count": null,
   "id": "1c138838",
   "metadata": {},
   "outputs": [],
   "source": []
  },
  {
   "cell_type": "code",
   "execution_count": null,
   "id": "5c88fc5f",
   "metadata": {},
   "outputs": [],
   "source": []
  },
  {
   "cell_type": "code",
   "execution_count": null,
   "id": "ab651250",
   "metadata": {},
   "outputs": [],
   "source": []
  },
  {
   "cell_type": "markdown",
   "id": "57840d3b",
   "metadata": {},
   "source": [
    "### Introduction to SpaCy"
   ]
  },
  {
   "cell_type": "code",
   "execution_count": null,
   "id": "685d75da",
   "metadata": {},
   "outputs": [],
   "source": []
  },
  {
   "cell_type": "code",
   "execution_count": null,
   "id": "466a07de",
   "metadata": {},
   "outputs": [],
   "source": []
  },
  {
   "cell_type": "markdown",
   "id": "8ce6ff39",
   "metadata": {},
   "source": [
    "### Multilingual NER with polyglot"
   ]
  },
  {
   "cell_type": "code",
   "execution_count": null,
   "id": "4af694d6",
   "metadata": {},
   "outputs": [],
   "source": []
  },
  {
   "cell_type": "code",
   "execution_count": null,
   "id": "6a1eb896",
   "metadata": {},
   "outputs": [],
   "source": []
  },
  {
   "cell_type": "code",
   "execution_count": null,
   "id": "1c5cae7b",
   "metadata": {},
   "outputs": [],
   "source": []
  }
 ],
 "metadata": {
  "kernelspec": {
   "display_name": "Python 3 (ipykernel)",
   "language": "python",
   "name": "python3"
  },
  "language_info": {
   "codemirror_mode": {
    "name": "ipython",
    "version": 3
   },
   "file_extension": ".py",
   "mimetype": "text/x-python",
   "name": "python",
   "nbconvert_exporter": "python",
   "pygments_lexer": "ipython3",
   "version": "3.9.13"
  }
 },
 "nbformat": 4,
 "nbformat_minor": 5
}
